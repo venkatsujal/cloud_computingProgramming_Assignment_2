{
  "nbformat": 4,
  "nbformat_minor": 0,
  "metadata": {
    "colab": {
      "provenance": []
    },
    "kernelspec": {
      "name": "python3",
      "display_name": "Python 3"
    },
    "language_info": {
      "name": "python"
    }
  },
  "cells": [
    {
      "cell_type": "code",
      "execution_count": 1,
      "metadata": {
        "colab": {
          "base_uri": "https://localhost:8080/"
        },
        "id": "xDOWL3_x17WX",
        "outputId": "7b6a2673-16bc-49ef-ecc9-41fc42f79f94"
      },
      "outputs": [
        {
          "output_type": "stream",
          "name": "stdout",
          "text": [
            "Collecting pyspark\n",
            "  Downloading pyspark-3.5.1.tar.gz (317.0 MB)\n",
            "\u001b[2K     \u001b[90m━━━━━━━━━━━━━━━━━━━━━━━━━━━━━━━━━━━━━━━━\u001b[0m \u001b[32m317.0/317.0 MB\u001b[0m \u001b[31m3.4 MB/s\u001b[0m eta \u001b[36m0:00:00\u001b[0m\n",
            "\u001b[?25h  Preparing metadata (setup.py) ... \u001b[?25l\u001b[?25hdone\n",
            "Requirement already satisfied: py4j==0.10.9.7 in /usr/local/lib/python3.10/dist-packages (from pyspark) (0.10.9.7)\n",
            "Building wheels for collected packages: pyspark\n",
            "  Building wheel for pyspark (setup.py) ... \u001b[?25l\u001b[?25hdone\n",
            "  Created wheel for pyspark: filename=pyspark-3.5.1-py2.py3-none-any.whl size=317488491 sha256=40e3f739350c678f849b23bd90f9494eb8e95014e9b00d5b0d3eb2907f1c3974\n",
            "  Stored in directory: /root/.cache/pip/wheels/80/1d/60/2c256ed38dddce2fdd93be545214a63e02fbd8d74fb0b7f3a6\n",
            "Successfully built pyspark\n",
            "Installing collected packages: pyspark\n",
            "Successfully installed pyspark-3.5.1\n"
          ]
        }
      ],
      "source": [
        "!pip install pyspark"
      ]
    },
    {
      "cell_type": "code",
      "source": [
        "from pyspark.sql import SparkSession\n",
        "from pyspark.ml import Pipeline\n",
        "from pyspark.ml.feature import VectorAssembler\n",
        "from pyspark.ml.regression import LinearRegression\n",
        "from pyspark.ml.evaluation import RegressionEvaluator\n"
      ],
      "metadata": {
        "id": "2DZD-nuL2N7n"
      },
      "execution_count": 2,
      "outputs": []
    },
    {
      "cell_type": "code",
      "source": [
        "spark = SparkSession.builder \\\n",
        "    .appName(\"WineQualityPrediction\") \\\n",
        "    .getOrCreate()\n"
      ],
      "metadata": {
        "id": "iDi7ob5b2izO"
      },
      "execution_count": 3,
      "outputs": []
    },
    {
      "cell_type": "code",
      "source": [
        "training_data = spark.read.csv(\"/TrainingDataset - TrainingDataset.csv\", header=True, inferSchema=True)\n"
      ],
      "metadata": {
        "id": "HKzuKKGf2jhF"
      },
      "execution_count": 4,
      "outputs": []
    },
    {
      "cell_type": "code",
      "source": [
        "feature_cols = training_data.columns[:-1]\n",
        "\n",
        "assembler = VectorAssembler(inputCols=feature_cols, outputCol=\"assembled_features\")\n",
        "prepared_data = assembler.transform(training_data)\n",
        "\n"
      ],
      "metadata": {
        "id": "H5ps2fm32qwU"
      },
      "execution_count": 7,
      "outputs": []
    },
    {
      "cell_type": "code",
      "source": [
        "from pyspark.sql.functions import col\n",
        "\n",
        "\n",
        "if \"assembled_features\" in prepared_data.columns:\n",
        "    prepared_data = prepared_data.withColumnRenamed(\"assembled_features\", \"old_assembled_features\")\n",
        "\n",
        "\n",
        "assembler = VectorAssembler(inputCols=feature_cols, outputCol=\"assembled_features\")\n",
        "prepared_data = assembler.transform(prepared_data)\n",
        "\n",
        "\n",
        "if \"old_assembled_features\" in prepared_data.columns:\n",
        "    prepared_data = prepared_data.drop(\"old_assembled_features\")\n"
      ],
      "metadata": {
        "id": "0PMmuJPY3N7c"
      },
      "execution_count": 9,
      "outputs": []
    },
    {
      "cell_type": "code",
      "source": [
        "from pyspark.ml.regression import LinearRegression\n",
        "\n",
        "\n",
        "output_col_name = \"assembled_features\"\n",
        "while output_col_name in prepared_data.columns:\n",
        "\n",
        "    output_col_name += \"_new\"\n",
        "\n",
        "assembler = VectorAssembler(inputCols=feature_cols, outputCol=output_col_name)\n",
        "prepared_data = assembler.transform(prepared_data)\n",
        "\n",
        "lr = LinearRegression(labelCol=\"quality\", featuresCol=output_col_name)\n",
        "pipeline = Pipeline(stages=[lr])\n",
        "\n",
        "model = pipeline.fit(prepared_data)\n",
        "\n"
      ],
      "metadata": {
        "id": "oyMZiRa32uP_"
      },
      "execution_count": 12,
      "outputs": []
    },
    {
      "cell_type": "code",
      "source": [
        "model.save(\"/Users/doc/Documents/download/trr\")\n"
      ],
      "metadata": {
        "id": "uCjJR56E3oau"
      },
      "execution_count": 18,
      "outputs": []
    },
    {
      "cell_type": "code",
      "source": [
        "validation_data = spark.read.csv(\"/ValidationDataset - ValidationDataset.csv\", header=True, inferSchema=True)\n",
        "prepared_validation_data = assembler.transform(validation_data)\n",
        "predictions = model.transform(prepared_validation_data)\n",
        "evaluator = RegressionEvaluator(labelCol=\"quality\", predictionCol=\"prediction\", metricName=\"rmse\")\n",
        "rmse = evaluator.evaluate(predictions)\n",
        "print(\"Root Mean Squared Error (RMSE) on validation data = %g\" % rmse)\n"
      ],
      "metadata": {
        "colab": {
          "base_uri": "https://localhost:8080/"
        },
        "id": "yxKxHMes32qN",
        "outputId": "5167c9fe-b031-4913-ff20-9737fba336c7"
      },
      "execution_count": 14,
      "outputs": [
        {
          "output_type": "stream",
          "name": "stdout",
          "text": [
            "Root Mean Squared Error (RMSE) on validation data = 0.689081\n"
          ]
        }
      ]
    }
  ]
}