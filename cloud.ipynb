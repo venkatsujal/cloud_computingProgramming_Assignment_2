{
  "nbformat": 4,
  "nbformat_minor": 0,
  "metadata": {
    "colab": {
      "provenance": []
    },
    "kernelspec": {
      "name": "python3",
      "display_name": "Python 3"
    },
    "language_info": {
      "name": "python"
    }
  },
  "cells": [
    {
      "cell_type": "code",
      "execution_count": null,
      "metadata": {
        "colab": {
          "base_uri": "https://localhost:8080/"
        },
        "id": "YxXfONxG-5ww",
        "outputId": "b96a6875-a14a-4c19-b494-17525ba47f8f"
      },
      "outputs": [
        {
          "output_type": "stream",
          "name": "stdout",
          "text": [
            "Collecting pyspark\n",
            "  Downloading pyspark-3.5.1.tar.gz (317.0 MB)\n",
            "\u001b[2K     \u001b[90m━━━━━━━━━━━━━━━━━━━━━━━━━━━━━━━━━━━━━━━━\u001b[0m \u001b[32m317.0/317.0 MB\u001b[0m \u001b[31m4.0 MB/s\u001b[0m eta \u001b[36m0:00:00\u001b[0m\n",
            "\u001b[?25h  Preparing metadata (setup.py) ... \u001b[?25l\u001b[?25hdone\n",
            "Requirement already satisfied: py4j==0.10.9.7 in /usr/local/lib/python3.10/dist-packages (from pyspark) (0.10.9.7)\n",
            "Building wheels for collected packages: pyspark\n",
            "  Building wheel for pyspark (setup.py) ... \u001b[?25l\u001b[?25hdone\n",
            "  Created wheel for pyspark: filename=pyspark-3.5.1-py2.py3-none-any.whl size=317488491 sha256=f4c8712f4af4ee25bfd3033408ecba4193fcf0913a2f2820d7efeaf73ba15cae\n",
            "  Stored in directory: /root/.cache/pip/wheels/80/1d/60/2c256ed38dddce2fdd93be545214a63e02fbd8d74fb0b7f3a6\n",
            "Successfully built pyspark\n",
            "Installing collected packages: pyspark\n",
            "Successfully installed pyspark-3.5.1\n"
          ]
        }
      ],
      "source": [
        "!pip install pyspark\n",
        "\n"
      ]
    },
    {
      "cell_type": "code",
      "source": [
        "from pyspark.sql import SparkSession\n",
        "\n",
        "\n",
        "spark = SparkSession.builder \\\n",
        "                    .appName(\"example-app\") \\\n",
        "                    .getOrCreate()\n",
        "\n",
        "df = spark.createDataFrame([(1, 'Alice'), (2, 'Bob')], ['id', 'name'])\n",
        "df.show()\n"
      ],
      "metadata": {
        "colab": {
          "base_uri": "https://localhost:8080/"
        },
        "id": "xhIER9yI_Pz_",
        "outputId": "39f62627-5b49-4b8a-8f9a-46437ddb33aa"
      },
      "execution_count": null,
      "outputs": [
        {
          "output_type": "stream",
          "name": "stdout",
          "text": [
            "+---+-----+\n",
            "| id| name|\n",
            "+---+-----+\n",
            "|  1|Alice|\n",
            "|  2|  Bob|\n",
            "+---+-----+\n",
            "\n"
          ]
        }
      ]
    },
    {
      "cell_type": "code",
      "source": [
        "from pyspark.sql import SparkSession\n",
        "\n",
        "\n",
        "spark = SparkSession.builder \\\n",
        "                    .appName(\"WineQualityPrediction\") \\\n",
        "                    .getOrCreate()\n",
        "\n",
        "\n",
        "train_df = spark.read.csv(\"/content/TrainingDataset - TrainingDataset.csv\", header=True, inferSchema=True)\n"
      ],
      "metadata": {
        "id": "reyD5mOz_ZNc"
      },
      "execution_count": 35,
      "outputs": []
    },
    {
      "cell_type": "markdown",
      "source": [],
      "metadata": {
        "id": "1oeW8oMKmIMX"
      }
    },
    {
      "cell_type": "code",
      "source": [
        "print(df.head(5))"
      ],
      "metadata": {
        "colab": {
          "base_uri": "https://localhost:8080/"
        },
        "id": "aswmNRaO_spl",
        "outputId": "9176fea2-05b9-4e51-b044-09ef18314a70"
      },
      "execution_count": 28,
      "outputs": [
        {
          "output_type": "stream",
          "name": "stdout",
          "text": [
            "[Row(fixed_acidity=8.9, volatile_acidity=0.22, citric_acid=0.48, residual_sugar=1.8, chlorides=0.077, free_sulfur_dioxide=29.0, total_sulfur_dioxide=60.0, density=0.9968, pH=3.39, sulphates=0.53, alcohol=9.4, quality=6), Row(fixed_acidity=7.6, volatile_acidity=0.39, citric_acid=0.31, residual_sugar=2.3, chlorides=0.082, free_sulfur_dioxide=23.0, total_sulfur_dioxide=71.0, density=0.9982, pH=3.52, sulphates=0.65, alcohol=9.7, quality=5), Row(fixed_acidity=7.9, volatile_acidity=0.43, citric_acid=0.21, residual_sugar=1.6, chlorides=0.106, free_sulfur_dioxide=10.0, total_sulfur_dioxide=37.0, density=0.9966, pH=3.17, sulphates=0.91, alcohol=9.5, quality=5), Row(fixed_acidity=8.5, volatile_acidity=0.49, citric_acid=0.11, residual_sugar=2.3, chlorides=0.084, free_sulfur_dioxide=9.0, total_sulfur_dioxide=67.0, density=0.9968, pH=3.17, sulphates=0.53, alcohol=9.4, quality=5), Row(fixed_acidity=6.9, volatile_acidity=0.4, citric_acid=0.14, residual_sugar=2.4, chlorides=0.085, free_sulfur_dioxide=21.0, total_sulfur_dioxide=40.0, density=0.9968, pH=3.43, sulphates=0.63, alcohol=9.7, quality=6)]\n"
          ]
        }
      ]
    },
    {
      "cell_type": "code",
      "source": [
        "from pyspark.sql.functions import when\n",
        "\n",
        "train_df = train_df.fillna(0)\n"
      ],
      "metadata": {
        "id": "Qnyu7junAMoY"
      },
      "execution_count": 36,
      "outputs": []
    },
    {
      "cell_type": "code",
      "source": [
        "\n",
        "train_data, val_data = train_df.randomSplit([0.8, 0.2], seed=42)\n"
      ],
      "metadata": {
        "id": "vudZpWO4VD8n"
      },
      "execution_count": 37,
      "outputs": []
    },
    {
      "cell_type": "code",
      "source": [
        "from pyspark.ml.feature import VectorAssembler\n",
        "\n",
        "\n",
        "input_features = ['fixed_acidity', 'volatile_acidity', 'citric_acid', 'residual_sugar', 'chlorides',\n",
        "                  'free_sulfur_dioxide', 'total_sulfur_dioxide', 'density', 'pH', 'sulphates', 'alcohol']\n",
        "\n",
        "assembler = VectorAssembler(inputCols=input_features, outputCol='features')\n",
        "\n",
        "\n",
        "train_data_with_features = assembler.transform(train_data)\n",
        "\n",
        "\n",
        "lr_model = lr.fit(train_data_with_features)\n",
        "\n",
        "\n"
      ],
      "metadata": {
        "id": "F6wRS981n67X"
      },
      "execution_count": 39,
      "outputs": []
    },
    {
      "cell_type": "code",
      "source": [
        "from pyspark.ml.feature import VectorAssembler\n",
        "\n",
        "\n",
        "input_features = ['fixed_acidity', 'volatile_acidity', 'citric_acid', 'residual_sugar', 'chlorides',\n",
        "                  'free_sulfur_dioxide', 'total_sulfur_dioxide', 'density', 'pH', 'sulphates', 'alcohol']\n",
        "\n",
        "assembler = VectorAssembler(inputCols=input_features, outputCol='features')\n",
        "\n",
        "val_data_with_features = assembler.transform(val_data)\n",
        "\n",
        "\n",
        "predictions = lr_model.transform(val_data_with_features)\n",
        "\n",
        "\n",
        "\n"
      ],
      "metadata": {
        "id": "aJbwzgzxpFSp"
      },
      "execution_count": 42,
      "outputs": []
    },
    {
      "cell_type": "code",
      "source": [
        "from pyspark.ml.feature import VectorAssembler\n",
        "\n",
        "\n",
        "input_features = ['fixed_acidity', 'volatile_acidity', 'citric_acid', 'residual_sugar', 'chlorides',\n",
        "                  'free_sulfur_dioxide', 'total_sulfur_dioxide', 'density', 'pH', 'sulphates', 'alcohol']\n",
        "\n",
        "\n",
        "assembler = VectorAssembler(inputCols=input_features, outputCol='features')\n",
        "\n",
        "\n",
        "train_data_with_features = assembler.transform(train_data)\n",
        "\n",
        "\n",
        "cv_model = cross_val.fit(train_data_with_features)\n",
        "\n",
        "best_model = cv_model.bestModel\n"
      ],
      "metadata": {
        "id": "Kx-wkhVxpakM"
      },
      "execution_count": 45,
      "outputs": []
    },
    {
      "cell_type": "code",
      "source": [
        "\n",
        "lr_model.save(\"logistic_regression_model\")\n"
      ],
      "metadata": {
        "id": "qleFVl0uqLph"
      },
      "execution_count": 46,
      "outputs": []
    },
    {
      "cell_type": "code",
      "source": [],
      "metadata": {
        "id": "CCS6k3LutgTb"
      },
      "execution_count": null,
      "outputs": []
    },
    {
      "cell_type": "code",
      "source": [
        "train_data.printSchema()"
      ],
      "metadata": {
        "colab": {
          "base_uri": "https://localhost:8080/"
        },
        "id": "AVwGGRtRndk3",
        "outputId": "5d7701d9-d853-4f42-b35c-24c01e33ed7e"
      },
      "execution_count": 31,
      "outputs": [
        {
          "output_type": "stream",
          "name": "stdout",
          "text": [
            "root\n",
            " |-- fixed_acidity: double (nullable = true)\n",
            " |-- volatile_acidity: double (nullable = true)\n",
            " |-- citric_acid: double (nullable = true)\n",
            " |-- residual_sugar: double (nullable = true)\n",
            " |-- chlorides: double (nullable = true)\n",
            " |-- free_sulfur_dioxide: double (nullable = true)\n",
            " |-- total_sulfur_dioxide: double (nullable = true)\n",
            " |-- density: double (nullable = true)\n",
            " |-- pH: double (nullable = true)\n",
            " |-- sulphates: double (nullable = true)\n",
            " |-- alcohol: double (nullable = true)\n",
            " |-- quality: integer (nullable = true)\n",
            "\n"
          ]
        }
      ]
    },
    {
      "cell_type": "code",
      "source": [],
      "metadata": {
        "id": "tzNfzkDuwwFB"
      },
      "execution_count": null,
      "outputs": []
    }
  ]
}